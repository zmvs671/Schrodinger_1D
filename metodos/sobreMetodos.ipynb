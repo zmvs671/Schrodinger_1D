{
 "cells": [
  {
   "cell_type": "markdown",
   "id": "97b240ff",
   "metadata": {},
   "source": [
    "# Métodos numéricos abordados en el proyecto para resolver la ecuación de Schrodinger unidimensional"
   ]
  },
  {
   "cell_type": "markdown",
   "id": "06665a26",
   "metadata": {},
   "source": [
    "Se presentará a grandes rasgos la idea de cada uno de los siguientes métodos, junto con la implementación de una función que permita aplicarlos directamente a una función previamente definida."
   ]
  },
  {
   "cell_type": "markdown",
   "id": "c6788102",
   "metadata": {},
   "source": [
    "* Diferencias finitas centradas\n",
    "* Runge-Kutta de orden 4\n",
    "* Numerov\n",
    "* Shooting\n",
    "* Algoritmo QR"
   ]
  },
  {
   "cell_type": "markdown",
   "id": "6ddd4adc",
   "metadata": {},
   "source": [
    "## Diferencias finitas centradas"
   ]
  },
  {
   "cell_type": "markdown",
   "id": "533b3d7a",
   "metadata": {},
   "source": [
    "Para aproximar la segunda derivada de una función $f(x)$ se utilizan diferencias centradas. A partir del desarrollo en series de Taylor de $f(x + h)$ y $f(x - h)$:\n",
    "\n",
    "\\begin{align*}\n",
    "f(x + h) &= f(x) + h f'(x) + \\frac{h^2}{2} f''(x) + \\frac{h^3}{6} f^{(3)}(x) + \\frac{h^4}{24} f^{(4)}(x) + \\cdots \\\\\n",
    "f(x - h) &= f(x) - h f'(x) + \\frac{h^2}{2} f''(x) - \\frac{h^3}{6} f^{(3)}(x) + \\frac{h^4}{24} f^{(4)}(x) - \\cdots\n",
    "\\end{align*}\n",
    "\n",
    "Al sumar ambas expresiones y despejar $f''(x)$, se obtiene:\n",
    "\n",
    "\\begin{equation*}\n",
    "f''(x) = \\frac{f(x + h) - 2f(x) + f(x - h)}{h^2} - \\frac{1}{12} h^2 f^{(4)}(x) + \\cdots\n",
    "\\end{equation*}\n",
    "\n",
    "La primera parte de la expresión es la **aproximación de segundo orden por diferencias centradas** para la segunda derivada. El segundo término representa el **error de truncamiento**, que es del orden $\\mathcal{O}(h^2)$."
   ]
  },
  {
   "cell_type": "markdown",
   "id": "68b69e8a",
   "metadata": {},
   "source": [
    "```python\n",
    "def segundaDerivadaCentrada(f, x, h=1e-5):\n",
    "    \"\"\"\n",
    "    f : Función a derivar, debe aceptar un float y devolver un float.\n",
    "    x : Punto en el cual se evalúa la segunda derivada.\n",
    "    h : Tamaño del paso para las diferencias finitas.\n",
    "    \"\"\"\n",
    "    return (f(x + h) - 2 * f(x) + f(x - h)) / h**2"
   ]
  },
  {
   "cell_type": "markdown",
   "id": "6be9ae94",
   "metadata": {},
   "source": [
    "*[1] p. 406*"
   ]
  },
  {
   "cell_type": "markdown",
   "id": "c2550a7b",
   "metadata": {},
   "source": [
    "## Numerov"
   ]
  },
  {
   "cell_type": "markdown",
   "id": "f2fe47a9",
   "metadata": {},
   "source": [
    "El método de Numerov es un esquema numérico de cuarto orden diseñado para resolver ecuaciones diferenciales ordinarias de segundo orden sin derivadas de primer orden, del tipo:\n",
    "$$\n",
    "\\frac{d^2 y(x)}{dx^2} + k^2(x)\\,y(x) = 0,\n",
    "$$\n",
    "como ocurre, por ejemplo, en la ecuación de Schrödinger independiente del tiempo en una dimensión:\n",
    "$$\n",
    "\\frac{d^2 \\psi(x)}{dx^2} + \\frac{2m}{\\hbar^2}(E - V(x))\\,\\psi(x) = 0.\n",
    "$$\n",
    "\n",
    "Este tipo de problemas son típicamente de **valores de frontera**, pues se requiere que la función de onda sea finita o tienda a cero en los extremos del dominio.\n",
    "\n",
    "Se parte del desarrollo en serie de Taylor de $y(x \\pm h)$ hasta el cuarto orden:\n",
    "$$\n",
    "y(x \\pm h) = y(x) \\pm h y'(x) + \\frac{h^2}{2}y''(x) \\pm \\frac{h^3}{6}y'''(x) + \\frac{h^4}{24}y^{(4)}(x) + \\mathcal{O}(h^5).\n",
    "$$\n",
    "\n",
    "Al sumar estas dos expresiones:\n",
    "$$\n",
    "y(x + h) + y(x - h) = 2y(x) + h^2 y''(x) + \\frac{h^4}{12}y^{(4)}(x) + \\mathcal{O}(h^6).\n",
    "$$\n",
    "\n",
    "Despejando la segunda derivada:\n",
    "$$\n",
    "y''(x) = \\frac{y(x + h) + y(x - h) - 2y(x)}{h^2} - \\frac{h^2}{12} y^{(4)}(x).\n",
    "$$\n",
    "\n",
    "Ahora, como la ecuación original es $y''(x) = -k^2(x)\\,y(x)$, se puede calcular la cuarta derivada usando que:\n",
    "$$\n",
    "y^{(4)}(x) \\approx \\frac{d^2}{dx^2}(-k^2(x)\\,y(x)),\n",
    "$$\n",
    "y aproximar esta derivada en diferencias finitas.\n",
    "\n",
    "Reorganizando, se llega a la fórmula de diferencias de Numerov:\n",
    "$$\n",
    "\\left[1 + \\frac{h^2}{12}k^2_{n+1}\\right] y_{n+1} = 2\\left[1 - \\frac{5h^2}{12}k^2_n\\right] y_n - \\left[1 + \\frac{h^2}{12}k^2_{n-1}\\right] y_{n-1}.\n",
    "$$\n",
    "\n",
    "Despejando $y_{n+1}$:\n",
    "$$\n",
    "y_{n+1} = \\frac{2\\left(1 - \\frac{5h^2}{12}k_n^2\\right)y_n - \\left(1 + \\frac{h^2}{12}k_{n-1}^2\\right)y_{n-1}}{1 + \\frac{h^2}{12}k_{n+1}^2}.\n",
    "$$\n",
    "\n",
    "Esta fórmula permite propagar la solución numérica de manera eficiente y precisa desde dos condiciones iniciales, típicamente elegidas en una región donde se conoce el comportamiento de la función (por ejemplo, donde $\\psi \\sim 0$ fuera de la región de clase permitida)."
   ]
  },
  {
   "cell_type": "markdown",
   "id": "ff2aaef1",
   "metadata": {},
   "source": [
    "```python\n",
    "def numerov(V, x_min, x_max, h, E, psi_0=0.0, psi_1=1e-5):\n",
    "    \"\"\"\n",
    "    - V: función del potencial V(x)\n",
    "    - x_min, x_max: intervalo de posiciones\n",
    "    - h: paso de integración\n",
    "    - E: energía tentativa\n",
    "    - psi_0, psi_1: condiciones iniciales (\\psi(x0), \\psi(x₀ + h))\n",
    "    \"\"\"\n",
    "    m = 1.0     # masa reducida \n",
    "    hbar = 1.0  # Constante de Planck reducida \n",
    "\n",
    "    # Número de pasos espaciales a partir del intervalo y el tamaño del paso h\n",
    "    N = int((x_max - x_min) / h)\n",
    "\n",
    "    # Genera un array de N puntos espaciados uniformemente entre x_min y x_max\n",
    "    x = np.linspace(x_min, x_max, N)\n",
    "\n",
    "    # Calcula k^2(x) = (2m/\\hbar^2)(E - V(x)) en cada punto del dominio\n",
    "    k2 = 2 * m * (E - V(x)) / hbar**2\n",
    "\n",
    "    psi = np.zeros(N)\n",
    "\n",
    "    # Condiciones iniciales: \\psi(x0) = psi_0 y \\psi(x0 + h) = psi_1\n",
    "    psi[0] = psi_0\n",
    "    psi[1] = psi_1\n",
    "\n",
    "    # Iteración del método de Numerov para obtener \\psi(x) en todo el dominio\n",
    "    for n in range(1, N - 1):\n",
    "        psi[n + 1] = (\n",
    "            (2 * (1 - (5 * h**2 * k2[n] / 12)) * psi[n] -  # Término central\n",
    "            (1 + (h**2 * k2[n - 1] / 12)) * psi[n - 1]) / # Término anterior\n",
    "            (1 + (h**2 * k2[n + 1] / 12))                  # Término siguiente (denominador)\n",
    "        )\n",
    "    return x, psi #x es un array de posiciones, psi es un array de eigenfunciones\n"
   ]
  },
  {
   "cell_type": "markdown",
   "id": "34abac2f",
   "metadata": {},
   "source": [
    "[3], [4]"
   ]
  },
  {
   "cell_type": "markdown",
   "id": "cd181b28",
   "metadata": {},
   "source": [
    "## Runge-Kutta de orden 4"
   ]
  },
  {
   "cell_type": "markdown",
   "id": "7df7e081",
   "metadata": {},
   "source": [
    "El *método de Runge-Kutta de cuarto orden* es uno de los métodos más comunes y efectivos para resolver numéricamente ecuaciones diferenciales ordinarias (EDO) de primer orden. Proporciona un excelente balance entre precisión y simplicidad de implementación.\n",
    "\n",
    "Es preciso hasta términos de orden $h^4$, con un error global del orden de $h^5$. Aunque su deducción completa mediante desarrollos de Taylor puede ser algebraicamente compleja, las ecuaciones resultantes son simples y prácticas para su implementación computacional.\n",
    "\n",
    "El método calcula una nueva estimación $x(t + h)$ a partir de valores intermedios de la derivada $f(x, t)$ en el intervalo:\n",
    "\n",
    "\\begin{align*}\n",
    "k_1 &= h f(x, t), \\\\\n",
    "k_2 &= h f\\left(x + \\tfrac{1}{2}k_1, t + \\tfrac{1}{2}h\\right), \\\\\n",
    "k_3 &= h f\\left(x + \\tfrac{1}{2}k_2, t + \\tfrac{1}{2}h\\right), \\\\\n",
    "k_4 &= h f\\left(x + k_3, t + h\\right), \\\\\n",
    "x(t + h) &= x(t) + \\tfrac{1}{6}(k_1 + 2k_2 + 2k_3 + k_4).\n",
    "\\end{align*}\n",
    "\n",
    "Cada $k_i$ representa una estimación de la pendiente en distintos puntos del paso, y su combinación ponderada proporciona una aproximación muy precisa del valor de la solución en el siguiente instante $t + h$."
   ]
  },
  {
   "cell_type": "markdown",
   "id": "c9d63d47",
   "metadata": {},
   "source": [
    "```python\n",
    "def rk4d(f, x0, a, b, h=0.01):\n",
    "  '''\n",
    "  f: función del sistema diferencial dx/dt = f(x, t)\n",
    "  x0: condición inicial (valor de x en t = a)\n",
    "  a, b: intervalo en t \n",
    "  h: paso de integración \n",
    "  '''\n",
    "  xlista = []  # Lista para guardar posiciones\n",
    "  tlista = np.arange(a, b + h, h)  # Lista de puntos en el tiempo desde a hasta b con paso h\n",
    "\n",
    "  x = x0  # Establecemos la condicion inicial\n",
    "\n",
    "  for i in tlista:\n",
    "    xlista.append(x) \n",
    "\n",
    "    # Método de Runge-Kutta 4to orden:\n",
    "    k1 = h * f(x, i)                            # Primera estimacion (como Euler)\n",
    "    k2 = h * f(x + (k1 / 2), i + h / 2)         \n",
    "    k3 = h * f(x + (k2 / 2), i + h / 2)         \n",
    "    k4 = h * f(x + k3, i + h)                   # Evaluación al final del paso con k3\n",
    "\n",
    "    # Combinacion ponderada para actualizar posicion\n",
    "    x = x + (k1 + 2*k2 + 2*k3 + k4) / 6\n",
    "\n",
    "  return tlista, xlista  # Regresamos la lista de tiempos y la solucion x(t)\n"
   ]
  },
  {
   "cell_type": "markdown",
   "id": "001003f9",
   "metadata": {},
   "source": [
    "*[1] pp. 331 - 338*\n",
    "\n",
    "*[2] pp. 288 - 291*"
   ]
  },
  {
   "cell_type": "markdown",
   "id": "e398543d",
   "metadata": {},
   "source": [
    "## Shooting"
   ]
  },
  {
   "cell_type": "markdown",
   "id": "f2182f86",
   "metadata": {},
   "source": [
    "El método de Shooting consiste en aplicar un método numérico estándar para resolver ecuaciones diferenciales (por ejemplo, el método de **Runge-Kutta de cuarto orden**) con el objetivo de calcular el valor de una función $f(v)$, la cual vincula las condiciones iniciales desconocidas con las condiciones de frontera finales. Posteriormente, se utiliza un método de búsqueda de raíces, (como el de la **secante**), para encontrar el valor de $v$ que hace que $f(v)$ cumpla con las condiciones de frontera especificadas.\n",
    "\n",
    "Previamente ya hemos descrito y programado el método de **Runge-Kutta de orden cuatro**, por lo que a continuación completaremos la descripción del método de Shooting hablando sobre el **método de la secante.**"
   ]
  },
  {
   "cell_type": "markdown",
   "id": "8a155e35",
   "metadata": {},
   "source": [
    "### Método de la secante"
   ]
  },
  {
   "cell_type": "markdown",
   "id": "2f9c10d5",
   "metadata": {},
   "source": [
    "El *método de la secante* es una variante del método de Newton que permite encontrar raíces de funciones de la forma $f(x) = 0$, sin requerir el conocimiento explícito de la derivada $f'(x)$.\n",
    "\n",
    "Cuando no se dispone de una fórmula analítica para la derivada, esta se puede aproximar mediante la pendiente entre dos puntos anteriores:\n",
    "\n",
    "$$\n",
    "f'(x_2) \\approx \\frac{f(x_2) - f(x_1)}{x_2 - x_1}\n",
    "$$\n",
    "\n",
    "Sustituyendo esta expresión en la fórmula del método de Newton se obtiene la fórmula iterativa de la secante:\n",
    "\n",
    "$$\n",
    "x_3 = x_2 - f(x_2) \\cdot \\frac{x_2 - x_1}{f(x_2) - f(x_1)}\n",
    "$$\n",
    "\n",
    "Esta expresión permite generar una nueva aproximación $x_3$ a la raíz de $f(x)$, utilizando únicamente evaluaciones de la función.\n",
    "\n",
    "El método utiliza dos puntos anteriores $x_1$ y $x_2$, y construye  la *secante* entre los puntos $(x_1, f(x_1))$ y $(x_2, f(x_2))$. Esta línea recta sirve como una aproximación de la tangente en $x_2$, que es usada para predecir el siguiente valor $x_3$. A diferencia del método de Newton, que requiere derivadas exactas, aquí solo se emplean diferencias finitas."
   ]
  },
  {
   "cell_type": "markdown",
   "id": "bf965432",
   "metadata": {},
   "source": [
    "```python\n",
    "def secante(f, x0, x1, epsilon=1e-6):\n",
    "  '''\n",
    "  f: función de la que queremos encontrar una raíz\n",
    "  x0, x1: primeras dos aproximaciones iniciales (se requieren dos)\n",
    "  epsilon: tolerancia para determinar cuándo f(x) es suficientemente cercana a 0\n",
    "  '''\n",
    "  f0 = f(x0)  # Evaluamos la funcion en el primer punto\n",
    "  f1 = f(x1)  # Evaluamos la funcion en el segundo punto\n",
    "\n",
    "  while True:\n",
    "    # Para evitar divisiones inseguras o errores de precision, usamos **(-1) en vez de \"/\"\n",
    "    x2 = x1 - f1 * (x1 - x0) * (f1 - f0) ** (-1)\n",
    "\n",
    "    f2 = f(x2)  # Evaluamos la funcion en la nueva aproximacion\n",
    "\n",
    "    if abs(f2) < epsilon:\n",
    "      break  # Criterio de convergencia\n",
    "    \n",
    "    # Actualizamos las variables para la siguiente iteracion\n",
    "    f0 = f1\n",
    "    f1 = f2\n",
    "    x0 = x1\n",
    "    x1 = x2\n",
    "\n",
    "    return x2  # Regresa la mejor aproximacion de la raiz\n"
   ]
  },
  {
   "cell_type": "markdown",
   "id": "7e4ee96e",
   "metadata": {},
   "source": [
    "*[1] pp. 273,274, 388 - 391*\n",
    "\n",
    "*[2] pp. 674, 675*"
   ]
  },
  {
   "cell_type": "markdown",
   "id": "ff4a2b2b",
   "metadata": {},
   "source": [
    "# Algoritmo QR"
   ]
  },
  {
   "cell_type": "markdown",
   "id": "47c6e53c",
   "metadata": {},
   "source": [
    "El algoritmo QR permite calcular los **eigenvalores** y **eigenvectores** de una matriz simétrica real $A$, mediante una sucesión de descomposiciones ortogonales. En cada iteración, se descompone la matriz actual como $A = QR $, donde:\n",
    "\n",
    "* $Q$ es una matriz ortogonal (sus columnas son ortonormales),\n",
    "* $R$ es una matriz triangular superior.\n",
    "\n",
    "Luego se construye una nueva matriz:\n",
    "\n",
    "$$ A' = RQ $$\n",
    "\n",
    "Repitiendo este proceso, la matriz converge hacia una forma diagonal:\n",
    "\n",
    "$$\n",
    "A_k \\longrightarrow D \\quad \\text{(matriz diagonal)},\n",
    "$$\n",
    "\n",
    "cuyos elementos diagonales son los **eigenvalores** de la matriz original $A $, y las columnas del producto acumulado de matrices $ Q $:\n",
    "\n",
    "$$\n",
    "V = Q_1 Q_2 \\cdots Q_k\n",
    "$$\n",
    "\n",
    "son los **eigenvectores** correspondientes."
   ]
  },
  {
   "cell_type": "markdown",
   "id": "ebe1a10c",
   "metadata": {},
   "source": [
    "Sea una matriz $A \\in \\mathbb{R}^{n \\times n}$, simétrica y real. Tal que se construye la siguiente secuencia:\n",
    "\n",
    "\\begin{align*}\n",
    "A_0 &= A = Q_1 R_1, \\\\\n",
    "A_1 &= R_1 Q_1 = Q_1^T A Q_1, \\\\\n",
    "A_2 &= Q_2^T A_1 Q_2 = Q_2^T Q_1^T A Q_1 Q_2, \\\\\n",
    "&\\vdots \\\\\n",
    "A_k &= (Q_k^T \\cdots Q_1^T) A (Q_1 \\cdots Q_k).\n",
    "\\end{align*}\n",
    "\n",
    "Esto es una **similitud ortogonal**, lo cual garantiza que todas las matrices $ A_k $ son similares entre sí y tienen los mismos autovalores que la matriz original $A$.\n",
    "\n",
    "Finalmente, se define:\n",
    "\n",
    "$$\n",
    "V = Q_1 Q_2 \\cdots Q_k, \\quad D \\approx A_k,\n",
    "$$\n",
    "\n",
    "de modo que:\n",
    "\n",
    "$$\n",
    "A \\approx V D V^T,\n",
    "$$\n",
    "\n",
    "donde:\n",
    "* $D$ es una matriz diagonal con los **eigenvalores**,\n",
    "* Las columnas de $V$ son los **eigenvectores** ortonormales de $A$."
   ]
  },
  {
   "cell_type": "markdown",
   "id": "7e2ca194",
   "metadata": {},
   "source": [
    "```python\n",
    "def QRdescomp(A):\n",
    "    '''\n",
    "    Descompone una matriz cuadrada A en el producto QR usando Gram-Schmidt.\n",
    "    A : ndarray (n x n) Matriz real cuadrada a descomponer.\n",
    "    '''\n",
    "    n = A.shape[0]  # Se obtiene el número de filas = columnas de A\n",
    "    \n",
    "    # Inicializamos Q y R como matrices de ceros\n",
    "    Q = np.zeros_like(A, dtype=float)\n",
    "    R = np.zeros((n, n), dtype=float)\n",
    "\n",
    "    # Gram-Schmidt modificado\n",
    "    for i in range(n):\n",
    "        u = A[:, i].copy()  # Tomamos la i-ésima columna de A\n",
    "\n",
    "        # Restamos las proyecciones sobre los vectores ortonormales anteriores\n",
    "        for j in range(i):\n",
    "            R[j, i] = np.dot(Q[:, j], A[:, i])  # Producto interno q_j · a_i\n",
    "            u -= R[j, i] * Q[:, j]              # Restamos la componente en dirección de q_j\n",
    "\n",
    "        R[i, i] = np.linalg.norm(u)  # Norma del vector ortogonal resultante\n",
    "        Q[:, i] = u / R[i, i]        # Normalizamos para obtener q_i\n",
    "\n",
    "    return Q, R  # Se devuelve la matriz ortogonal Q y la triangular superior R\n"
   ]
  },
  {
   "cell_type": "markdown",
   "id": "a50560e1",
   "metadata": {},
   "source": [
    "```python\n",
    "def QR(A, tol=1e-6):\n",
    "    '''\n",
    "    Calcula los eigenvalores y eigenvectores de una matriz simétrica real usando el algoritmo QR.\n",
    "    A : ndarray (n x n). Matriz real y simétrica cuyas raíces (eigenvalores) se desean calcular.\n",
    "    tol : Tolerancia para determinar la convergencia. El algoritmo termina cuando \n",
    "        todos los elementos fuera de la diagonal son menores que esta tolerancia.\n",
    "    '''\n",
    "    # Obtenemos el tamaño de la matriz cuadrada A\n",
    "    n = A.shape[0]\n",
    "    \n",
    "    # Inicializamos Qtotal como la matriz identidad de tamaño n x n\n",
    "    Qtotal = np.eye(n)\n",
    "    \n",
    "    while True:\n",
    "        # Calculamos la descomposición QR de la matriz Ak\n",
    "        Q, R = QRdescomp(A)\n",
    "        \n",
    "        # Obtenemos la nueva matriz Ak = R @ Q (producto de R por Q)\n",
    "        Ak = R @ Q\n",
    "        \n",
    "        # Acumular el producto de Qs para construir la matriz de eigenvectores\n",
    "        Qtotal = Qtotal @ Q\n",
    "        \n",
    "        # Construimos la matriz que contiene solo los elementos fuera de la diagonal\n",
    "        offDiagonal = Ak - np.diag(np.diagonal(Ak))\n",
    "        \n",
    "        # Criterio de convergencia: los elementos fuera de la diagonal son suficientemente pequeños\n",
    "        if np.all(np.abs(offDiagonal) < tol):\n",
    "            break  \n",
    "\n",
    "    # Los eigenvalores están en la diagonal de la matriz Ak final\n",
    "    eigenvalores = np.diagonal(Ak)\n",
    "    \n",
    "    # Los eigenvectores se guardan en las columnas de Qtotal\n",
    "    eigenvectores = Qtotal\n",
    "    \n",
    "    return eigenvalores, eigenvectores"
   ]
  },
  {
   "cell_type": "markdown",
   "id": "199c68aa",
   "metadata": {},
   "source": [
    "*[1] pp. 241 - 248*"
   ]
  },
  {
   "cell_type": "markdown",
   "id": "d541c671",
   "metadata": {},
   "source": [
    "## Referencias\n",
    "\n",
    "[1] Newman, M. E. J. (2013). *Computational physics*. CreateSpace Independent Publishing Platform.\n",
    "\n",
    "[2] Burden, R. L., & Faires, J. D. (2010). *Numerical analysis* (9.ª ed.). Brooks/Cole, Cengage Learning.\n",
    "\n",
    "[3] Caruso, F., Oguri, V., & Silveira, F. (2022). Applications of the Numerov method to simple quantum systems using Python. Revista Brasileira de Ensino de Física, 44, e20220098. https://doi.org/10.1590/1806-9126-RBEF-2022-0098\n",
    "\n",
    "[4] Evans, M. (s.f.). Schroedinger Equation in Harmonic Potential [Código fuente]. Recuperado de https://mtdevans.com/js/sch.py.txt"
   ]
  }
 ],
 "metadata": {
  "kernelspec": {
   "display_name": "3.9.19",
   "language": "python",
   "name": "python3"
  },
  "language_info": {
   "codemirror_mode": {
    "name": "ipython",
    "version": 3
   },
   "file_extension": ".py",
   "mimetype": "text/x-python",
   "name": "python",
   "nbconvert_exporter": "python",
   "pygments_lexer": "ipython3",
   "version": "3.9.19"
  }
 },
 "nbformat": 4,
 "nbformat_minor": 5
}
